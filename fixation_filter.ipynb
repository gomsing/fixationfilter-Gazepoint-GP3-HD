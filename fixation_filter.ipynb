{
 "cells": [
  {
   "cell_type": "code",
   "execution_count": 1,
   "metadata": {},
   "outputs": [],
   "source": [
    "import numpy as np\n",
    "import pandas as pd\n",
    "import math\n",
    "\n"
   ]
  },
  {
   "cell_type": "code",
   "execution_count": 2,
   "metadata": {},
   "outputs": [],
   "source": [
    "def gaze_angle(x, y):\n",
    "        angle = (math.atan(x/y)/math.pi)*180\n",
    "        return angle\n",
    "\n",
    "def data_org(df):\n",
    "    df = df.drop(df[df.BPOGV < 1].index) #remove invalid eyetracking data\n",
    "    #outlier filtering \n",
    "    df = df.loc[(df['BPOGX'] >= 0) & (df['BPOGX'] <= 1)]\n",
    "    df = df.loc[(df['BPOGY'] >= 0) & (df['BPOGY'] <= 1)]\n",
    "    df = df.reset_index(drop = True)\n",
    "\n",
    "    df['gaze_angle'] = list(map(gaze_angle, df['BPOGX'], df['BPOGY']))\n",
    "\n",
    "    df['dif'] = abs(df['gaze_angle'].diff(periods=-1))\n",
    "    return df\n",
    "    \n",
    "def fixation_detection(df, missing = 0.0, maxdist =1, mindur = 0.1):\n",
    "    '''\n",
    "    Sfix-list of lists, each containing [starttime]\n",
    "    Efix-list of lists, each containing [starttime, endtime, duration, endx, endy]\n",
    "    '''\n",
    "    Sfix = []\n",
    "    Efix = []\n",
    "    x = df['gaze_angle']\n",
    "    time = df['timestamp']\n",
    "    block = df['block']\n",
    "    nback = df['nback']\n",
    "    target = df['target']\n",
    "    zone = df['zone']\n",
    "    stimuli = df['stimuli']\n",
    "\n",
    "    bpx = df['BPOGX']\n",
    "    bpy = df['BPOGY']\n",
    "    #info = df[['block', 'nback', 'target', 'zone' , 'stimuli']]\n",
    "    #loop through coordinates \n",
    "    si = 0\n",
    "    fixstart = False\n",
    "    for i in range(1, len(x)):\n",
    "        #calculate the gaze angle difference\n",
    "        v1 = x[si]\n",
    "        v2 = x[i]\n",
    "        angle = abs(v1-v2)\n",
    "        # check if the next coordinate is below maximal distance\n",
    "        if angle <= maxdist and not fixstart:\n",
    "        # start a new fixation\n",
    "            si = 0 + i\n",
    "            fixstart = True\n",
    "            Sfix.append([time[i]])\n",
    "        elif angle > maxdist and fixstart:\n",
    "        # end the current fixation\n",
    "            fixstart = False\n",
    "            # only store the fixation if the duration is ok\n",
    "            if time[i-1]-Sfix[-1][0] >= mindur:\n",
    "                Efix.append((Sfix[-1][0], time[i-1], time[i-1]-Sfix[-1][0], bpx[si], bpy[si], x[si], block[si], nback[si],\n",
    "                                target[si], zone[si], stimuli[si]))\n",
    "            # delete the last fixation start if it was too short\n",
    "            else:\n",
    "                Sfix.pop(-1)\n",
    "            si = 0 + i\n",
    "        elif not fixstart:\n",
    "            si += 1\n",
    "    #add last fixation end (we can lose it if dist > maxdist is false for the last point)\n",
    "    if len(Sfix) > len(Efix):\n",
    "        Efix.append((Sfix[-1][0], time[len(x)-1], time[len(x)-1]-Sfix[-1][0], bpx[si], bpy[si], x[si], block[si], nback[si],\n",
    "                                target[si], zone[si], stimuli[si]))\n",
    "    return Efix"
   ]
  },
  {
   "cell_type": "code",
   "execution_count": null,
   "metadata": {},
   "outputs": [],
   "source": []
  }
 ],
 "metadata": {
  "kernelspec": {
   "display_name": "Python 3.7.4 ('base')",
   "language": "python",
   "name": "python3"
  },
  "language_info": {
   "codemirror_mode": {
    "name": "ipython",
    "version": 3
   },
   "file_extension": ".py",
   "mimetype": "text/x-python",
   "name": "python",
   "nbconvert_exporter": "python",
   "pygments_lexer": "ipython3",
   "version": "3.7.4"
  },
  "orig_nbformat": 4,
  "vscode": {
   "interpreter": {
    "hash": "0977fbf109a830e0ed4f7bef43e9e0241c78c9835247e03586ba4100ebbafa46"
   }
  }
 },
 "nbformat": 4,
 "nbformat_minor": 2
}
